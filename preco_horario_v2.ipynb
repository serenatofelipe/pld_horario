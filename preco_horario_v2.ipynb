{
 "cells": [
  {
   "cell_type": "code",
   "execution_count": null,
   "metadata": {
    "collapsed": true,
    "pycharm": {
     "name": "#%%\n"
    }
   },
   "outputs": [],
   "source": [
    "import pandas as pd\n",
    "from tqdm import tqdm # Só de bonito\n",
    "import warnings\n",
    "\n",
    "# Warning para ignorar mensagens de erro\n",
    "warnings.simplefilter(\"ignore\")"
   ]
  },
  {
   "cell_type": "code",
   "execution_count": null,
   "outputs": [],
   "source": [
    "# Importando os arquivos de PLD (o site da CCEE limita a extração a 6 meses)\n",
    "primeiro_semestre = pd.read_csv(\"preco_horario_21_1s.csv\", sep=\";\", decimal=\",\")\n",
    "segundo_semestre = pd.read_csv(\"preco_horario_21_2s.csv\", sep=\";\", decimal=\",\")"
   ],
   "metadata": {
    "collapsed": false,
    "pycharm": {
     "name": "#%%\n"
    }
   }
  },
  {
   "cell_type": "code",
   "execution_count": null,
   "outputs": [],
   "source": [
    "# Criando as colunas para o merge\n",
    "primeiro_semestre['merge'] = primeiro_semestre['Hora'].astype('str') + primeiro_semestre['Submercado']\n",
    "segundo_semestre['merge'] = segundo_semestre['Hora'].astype('str') + segundo_semestre['Submercado']"
   ],
   "metadata": {
    "collapsed": false,
    "pycharm": {
     "name": "#%%\n"
    }
   }
  },
  {
   "cell_type": "code",
   "execution_count": null,
   "outputs": [],
   "source": [
    "# Criando um df do ano\n",
    "ano = pd.merge(primeiro_semestre, segundo_semestre, on=\"merge\", suffixes=(\"\", \"_merge\"))"
   ],
   "metadata": {
    "collapsed": false,
    "pycharm": {
     "name": "#%%\n"
    }
   }
  },
  {
   "cell_type": "code",
   "execution_count": null,
   "outputs": [],
   "source": [
    "# Removendo as colunas que não fazem mais sentido\n",
    "ano = ano.drop(['Hora_merge', 'Submercado_merge', 'merge'], axis=1)"
   ],
   "metadata": {
    "collapsed": false,
    "pycharm": {
     "name": "#%%\n"
    }
   }
  },
  {
   "cell_type": "code",
   "execution_count": null,
   "outputs": [],
   "source": [
    "# Criando a indexação das datas\n",
    "colunas = ano.columns\n",
    "valores_a_remover = ['Hora', 'Submercado']\n",
    "colunas_data = colunas.drop(valores_a_remover)"
   ],
   "metadata": {
    "collapsed": false,
    "pycharm": {
     "name": "#%%\n"
    }
   }
  },
  {
   "cell_type": "code",
   "execution_count": null,
   "outputs": [],
   "source": [
    "# Trasnpondo as datas e criando um df\n",
    "pld_ano = pd.DataFrame([])\n",
    "for data in tqdm(colunas_data):\n",
    "    df = ano[['Hora', 'Submercado', data]]\n",
    "    df['Data'] = str(data)\n",
    "    df.rename(columns={data: \"PLD\"}, inplace=True)\n",
    "    df.reset_index(drop=True, inplace=True)\n",
    "    pld_ano = pd.concat([pld_ano, df], ignore_index=True)"
   ],
   "metadata": {
    "collapsed": false,
    "pycharm": {
     "name": "#%%\n"
    }
   }
  },
  {
   "cell_type": "code",
   "execution_count": null,
   "outputs": [],
   "source": [
    "# Convertendo a coluna Data em datetime\n",
    "pld_ano['Data'] = pld_ano['Data'].astype('datetime64[ns]')"
   ],
   "metadata": {
    "collapsed": false,
    "pycharm": {
     "name": "#%%\n"
    }
   }
  },
  {
   "cell_type": "code",
   "execution_count": null,
   "outputs": [],
   "source": [
    "# Exportando o arquivo\n",
    "pld_ano.to_excel(\"pld_2021.xlsx\", index=False)"
   ],
   "metadata": {
    "collapsed": false,
    "pycharm": {
     "name": "#%%\n"
    }
   }
  },
  {
   "cell_type": "code",
   "execution_count": null,
   "outputs": [],
   "source": [],
   "metadata": {
    "collapsed": false,
    "pycharm": {
     "name": "#%%\n"
    }
   }
  }
 ],
 "metadata": {
  "kernelspec": {
   "display_name": "Python 3",
   "language": "python",
   "name": "python3"
  },
  "language_info": {
   "codemirror_mode": {
    "name": "ipython",
    "version": 2
   },
   "file_extension": ".py",
   "mimetype": "text/x-python",
   "name": "python",
   "nbconvert_exporter": "python",
   "pygments_lexer": "ipython2",
   "version": "2.7.6"
  }
 },
 "nbformat": 4,
 "nbformat_minor": 0
}